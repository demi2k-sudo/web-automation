{
 "cells": [
  {
   "cell_type": "code",
   "execution_count": 1,
   "metadata": {},
   "outputs": [],
   "source": [
    "from dotenv import load_dotenv\n",
    "import os\n",
    "from llama_index.core import Settings\n",
    "from llama_index.llms.azure_openai import AzureOpenAI\n",
    "load_dotenv()\n",
    "\n",
    "\n",
    "api_key = os.getenv(\"AZURE_API_KEY\")\n",
    "azure_endpoint = os.getenv(\"AZURE_ENDPOINT\")\n",
    "\n",
    "Settings.llm = AzureOpenAI(\n",
    "    model=\"gpt-4-32k\",\n",
    "    deployment_name=\"gpt4-demetrius\",\n",
    "    api_key=api_key,\n",
    "    azure_endpoint=azure_endpoint,\n",
    "    api_version=\"2023-07-01-preview\",\n",
    ")"
   ]
  },
  {
   "cell_type": "code",
   "execution_count": 8,
   "metadata": {},
   "outputs": [],
   "source": [
    "import subprocess\n",
    "import os\n",
    "\n",
    "def run_command_in_directory(cwd:str, command:str):\n",
    "    \"\"\"Use this function to run shell commands in a directory\n",
    "\n",
    "    Args:\n",
    "        cwd (str): The working directory where the command needs to be run\n",
    "        command (str): the command that has to be run\n",
    "\n",
    "    Returns:\n",
    "        stdout (str): the shell output if the command is successfully run\n",
    "        stderr (str): the shell output error if the command is not successfully run \n",
    "    \"\"\"\n",
    "    try:\n",
    "        os.chdir(cwd)\n",
    "        \n",
    "        result = subprocess.run(command, shell=True, capture_output=True, text=True)\n",
    "        \n",
    "        return result.stdout, result.stderr\n",
    "    except Exception as e:\n",
    "        return None, str(e)\n",
    "    \n",
    "def write_to_file(file_path: str, content: str):\n",
    "    \"\"\"Use this function to write content to a file\n",
    "\n",
    "    Args:\n",
    "        file_path (str): The path to the file where the content needs to be written\n",
    "        content (str): The content that has to be written to the file\n",
    "\n",
    "    Returns:\n",
    "        success (bool): True if the content is successfully written to the file\n",
    "        error (str): The error message if there is an issue with writing to the file\n",
    "    \"\"\"\n",
    "    try:\n",
    "        with open(file_path, 'w') as file:\n",
    "            file.write(content)\n",
    "        return True, None\n",
    "    except Exception as e:\n",
    "        return False, str(e)\n",
    "\n",
    "\n"
   ]
  },
  {
   "cell_type": "code",
   "execution_count": 9,
   "metadata": {},
   "outputs": [],
   "source": [
    "from llama_index.core.tools import FunctionTool\n",
    "shellTool = FunctionTool.from_defaults(fn=run_command_in_directory)\n",
    "writeTool = FunctionTool.from_defaults(fn=write_to_file)"
   ]
  },
  {
   "cell_type": "code",
   "execution_count": 10,
   "metadata": {},
   "outputs": [],
   "source": [
    "from llama_index.core.agent import FunctionCallingAgentWorker\n",
    "from llama_index.core.agent import AgentRunner\n",
    "\n",
    "agent_worker = FunctionCallingAgentWorker.from_tools(\n",
    "    [shellTool,writeTool], \n",
    "    verbose=True\n",
    ")\n",
    "agent = AgentRunner(agent_worker,verbose=True)"
   ]
  },
  {
   "cell_type": "code",
   "execution_count": 11,
   "metadata": {},
   "outputs": [
    {
     "name": "stdout",
     "output_type": "stream",
     "text": [
      "> Running step 19c48e8f-9b70-4b8d-99f8-331ec8712984. Step input: initialize a NPM project in the folder F:\\PROJECTS\\web-automation\test\n",
      "Added user message to memory: initialize a NPM project in the folder F:\\PROJECTS\\web-automation\test\n",
      "=== Calling Function ===\n",
      "Calling function: run_command_in_directory with args: {\"cwd\": \"F:\\\\PROJECTS\\\\web-automation\\\\test\", \"command\": \"npm init -y\"}\n",
      "=== Function Output ===\n",
      "('Wrote to F:\\\\PROJECTS\\\\web-automation\\\\test\\\\package.json:\\n\\n{\\n  \"name\": \"test\",\\n  \"version\": \"0.1.0\",\\n  \"private\": true,\\n  \"main\": \"index.js\",\\n  \"scripts\": {\\n    \"test\": \"echo \\\\\"Error: no test specified\\\\\" && exit 1\"\\n  },\\n  \"keywords\": [],\\n  \"author\": \"\",\\n  \"license\": \"ISC\",\\n  \"description\": \"\"\\n}\\n\\n\\n', '')\n",
      "> Running step feba42db-7a40-44f5-abce-310d572a5874. Step input: None\n",
      "=== LLM Response ===\n",
      "The NPM project has been successfully initialized in the folder F:\\PROJECTS\\web-automation\\test. A package.json file has been created with the following content:\n",
      "\n",
      "```json\n",
      "{\n",
      "  \"name\": \"test\",\n",
      "  \"version\": \"0.1.0\",\n",
      "  \"private\": true,\n",
      "  \"main\": \"index.js\",\n",
      "  \"scripts\": {\n",
      "    \"test\": \"echo \\\"Error: no test specified\\\" && exit 1\"\n",
      "  },\n",
      "  \"keywords\": [],\n",
      "  \"author\": \"\",\n",
      "  \"license\": \"ISC\",\n",
      "  \"description\": \"\"\n",
      "}\n",
      "```\n"
     ]
    }
   ],
   "source": [
    "response = agent.query('initialize a NPM project in the folder F:\\PROJECTS\\web-automation\\test')"
   ]
  },
  {
   "cell_type": "code",
   "execution_count": 12,
   "metadata": {},
   "outputs": [
    {
     "name": "stdout",
     "output_type": "stream",
     "text": [
      "> Running step 9bc14fbc-d170-4e12-a361-bdf44d871db1. Step input: i want a server that gets a number and returns the square of it in node using express, install all the dependencies you need, CWD:F:\\PROJECTS\\web-automation\test\n",
      "Added user message to memory: i want a server that gets a number and returns the square of it in node using express, install all the dependencies you need, CWD:F:\\PROJECTS\\web-automation\test\n",
      "=== Calling Function ===\n",
      "Calling function: run_command_in_directory with args: {\"cwd\": \"F:\\\\PROJECTS\\\\web-automation\\\\test\", \"command\": \"npm init -y\"}\n",
      "=== Function Output ===\n",
      "('Wrote to F:\\\\PROJECTS\\\\web-automation\\\\test\\\\package.json:\\n\\n{\\n  \"name\": \"test\",\\n  \"version\": \"0.1.0\",\\n  \"private\": true,\\n  \"main\": \"index.js\",\\n  \"scripts\": {\\n    \"test\": \"echo \\\\\"Error: no test specified\\\\\" && exit 1\"\\n  },\\n  \"keywords\": [],\\n  \"author\": \"\",\\n  \"license\": \"ISC\",\\n  \"description\": \"\"\\n}\\n\\n\\n', '')\n",
      "> Running step edb20c5f-26e8-48a6-8340-656f8838c8fa. Step input: None\n",
      "=== Calling Function ===\n",
      "Calling function: run_command_in_directory with args: {\"cwd\": \"F:\\\\PROJECTS\\\\web-automation\\\\test\", \"command\": \"npm install express\"}\n",
      "=== Function Output ===\n",
      "('\\nadded 64 packages in 3m\\n\\n12 packages are looking for funding\\n  run `npm fund` for details\\n', 'npm notice Beginning October 4, 2021, all connections to the npm registry - including for package installation - must use TLS 1.2 or higher. You are currently using plaintext http to connect. Please visit the GitHub blog for more information: https://github.blog/2021-08-23-npm-registry-deprecating-tls-1-0-tls-1-1/\\nnpm notice Beginning October 4, 2021, all connections to the npm registry - including for package installation - must use TLS 1.2 or higher. You are currently using plaintext http to connect. Please visit the GitHub blog for more information: https://github.blog/2021-08-23-npm-registry-deprecating-tls-1-0-tls-1-1/\\n')\n",
      "> Running step a91fa67a-5585-4036-a6e8-14f7a3f8a58a. Step input: None\n",
      "=== Calling Function ===\n",
      "Calling function: write_to_file with args: {\"file_path\": \"F:\\\\PROJECTS\\\\web-automation\\\\test\\\\index.js\", \"content\": \"const express = require('express');\\nconst app = express();\\napp.use(express.json());\\n\\napp.get('/square/:number', (req, res) => {\\n  const number = parseInt(req.params.number);\\n  if(isNaN(number)) {\\n    res.status(400).send('Bad Request');\\n  } else {\\n    res.json({result: number * number});\\n  }\\n});\\n\\napp.listen(3000, () => {\\n  console.log('Server is running on port 3000');\\n});\"}\n",
      "=== Function Output ===\n",
      "(True, None)\n",
      "> Running step 0423d09e-634f-4379-96db-4313cca62488. Step input: None\n",
      "=== LLM Response ===\n",
      "I have created a server using Express in Node.js. The server listens on port 3000 and has an endpoint `/square/:number` which takes a number as a parameter and returns the square of that number. If the parameter is not a number, it will return a 400 Bad Request response.\n",
      "\n",
      "You can start the server by running `node index.js` in your project directory.\n"
     ]
    }
   ],
   "source": [
    "response = agent.query('i want a server that gets a number and returns the square of it in node using express, install all the dependencies you need, CWD:F:\\PROJECTS\\web-automation\\test')"
   ]
  },
  {
   "cell_type": "code",
   "execution_count": null,
   "metadata": {},
   "outputs": [],
   "source": []
  }
 ],
 "metadata": {
  "kernelspec": {
   "display_name": "base",
   "language": "python",
   "name": "python3"
  },
  "language_info": {
   "codemirror_mode": {
    "name": "ipython",
    "version": 3
   },
   "file_extension": ".py",
   "mimetype": "text/x-python",
   "name": "python",
   "nbconvert_exporter": "python",
   "pygments_lexer": "ipython3",
   "version": "3.11.5"
  }
 },
 "nbformat": 4,
 "nbformat_minor": 2
}
